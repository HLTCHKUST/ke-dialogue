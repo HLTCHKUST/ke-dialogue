{
 "cells": [
  {
   "cell_type": "code",
   "execution_count": 1,
   "metadata": {},
   "outputs": [],
   "source": [
    "from neo4j import GraphDatabase\n",
    "import pandas as pd"
   ]
  },
  {
   "cell_type": "code",
   "execution_count": 2,
   "metadata": {},
   "outputs": [],
   "source": [
    "driver = GraphDatabase.driver(\"bolt://localhost:7687\", auth=(\"neo4j\", \"CAiRE2020neo4j\"))"
   ]
  },
  {
   "cell_type": "code",
   "execution_count": 3,
   "metadata": {},
   "outputs": [],
   "source": [
    "def remove_data(tx):\n",
    "    tx.run(\"MATCH (a)-[r]-(b) DELETE a,r,b\")\n",
    "    tx.run(\"MATCH (a) DELETE a\")\n",
    "    \n",
    "with driver.session() as session:\n",
    "    session.write_transaction(remove_data)"
   ]
  },
  {
   "cell_type": "code",
   "execution_count": 4,
   "metadata": {},
   "outputs": [],
   "source": [
    "entity_df = pd.read_csv('../data/opendialkg_entities.txt', sep='\\t', header=None)\n",
    "entity_df.drop_duplicates(inplace=True)\n",
    "entity_df.columns = ['entity']\n",
    "entity_df.to_csv('opendialkg_entities.csv',index=False)"
   ]
  },
  {
   "cell_type": "code",
   "execution_count": 5,
   "metadata": {},
   "outputs": [
    {
     "name": "stdout",
     "output_type": "stream",
     "text": [
      "CPU times: user 3.68 ms, sys: 0 ns, total: 3.68 ms\n",
      "Wall time: 2.28 s\n"
     ]
    }
   ],
   "source": [
    "%%time\n",
    "def add_entity(tx):\n",
    "    tx.run(\"\"\"\n",
    "        CALL apoc.periodic.iterate('\n",
    "             load csv with headers from \"file:///opendialkg_entities.csv\" AS row return row ','\n",
    "             CREATE (a:Node {value: row.entity})\n",
    "        ',{batchSize:1000, iterateList:true, parallel:true})\n",
    "    \"\"\")\n",
    "    \n",
    "def index_entity(tx):\n",
    "    tx.run(\"\"\"\n",
    "        CREATE CONSTRAINT ON (n:Node) ASSERT n.value IS UNIQUE;\n",
    "    \"\"\")\n",
    "\n",
    "with driver.session() as session:\n",
    "    session.write_transaction(add_entity)\n",
    "    session.write_transaction(index_entity)"
   ]
  },
  {
   "cell_type": "code",
   "execution_count": 18,
   "metadata": {},
   "outputs": [],
   "source": [
    "triplet_df = pd.read_csv('../data/opendialkg/data/opendialkg_triples.txt', sep='\\t')"
   ]
  },
  {
   "cell_type": "code",
   "execution_count": 21,
   "metadata": {},
   "outputs": [],
   "source": [
    "def preprocess_relation(relation):\n",
    "    relation = relation.replace('.','').replace(',','').replace('/','').replace('(','').replace(')','').replace('\\'','')\n",
    "    relation = relation.replace('  ',' ').replace(' ','_').replace('-','_').replace('~','X_')\n",
    "    return relation.lower()\n",
    "\n",
    "triplet_df['relation'] = triplet_df['relation'].apply(lambda r: preprocess_relation(r))\n",
    "triplet_df.drop_duplicates(inplace=True)\n",
    "triplet_df.to_csv('opendialkg_triplet_preprocess.csv', index=False)"
   ]
  },
  {
   "cell_type": "code",
   "execution_count": 22,
   "metadata": {},
   "outputs": [
    {
     "data": {
      "text/plain": [
       "(1174016, 3)"
      ]
     },
     "execution_count": 22,
     "metadata": {},
     "output_type": "execute_result"
    }
   ],
   "source": [
    "triplet_df.shape"
   ]
  },
  {
   "cell_type": "code",
   "execution_count": 9,
   "metadata": {},
   "outputs": [],
   "source": [
    "def remove_relation(tx):\n",
    "    tx.run(\"MATCH (a)-[r]->(b) DELETE r\")\n",
    "    \n",
    "with driver.session() as session:\n",
    "    session.write_transaction(remove_relation)"
   ]
  },
  {
   "cell_type": "code",
   "execution_count": 10,
   "metadata": {},
   "outputs": [
    {
     "name": "stdout",
     "output_type": "stream",
     "text": [
      "CPU times: user 270 ms, sys: 136 ms, total: 406 ms\n",
      "Wall time: 2h 44min 10s\n"
     ]
    }
   ],
   "source": [
    "%%time\n",
    "def add_relation(tx):\n",
    "    tx.run(\"\"\"\n",
    "        CALL apoc.periodic.iterate('\n",
    "            load csv with headers from \"file:///opendialkg_triplet_preprocess.csv\" AS row return row ','\n",
    "            MATCH (a:Node),(b:Node) \n",
    "            WHERE a.value=row.source AND b.value=row.target\n",
    "            CALL apoc.create.relationship(a, row.relation, {}, b) yield rel\n",
    "            REMOVE rel.noOp\n",
    "        ',{batchSize:100, iterateList:true, parallel:false})\"\"\")\n",
    "\n",
    "with driver.session() as session:\n",
    "    session.write_transaction(add_relation)"
   ]
  },
  {
   "cell_type": "code",
   "execution_count": 11,
   "metadata": {},
   "outputs": [
    {
     "name": "stdout",
     "output_type": "stream",
     "text": [
      "<Record COUNT(r)=1186964>\n",
      "None\n"
     ]
    }
   ],
   "source": [
    "def read_count(tx):\n",
    "    for record in  tx.run(\"MATCH (a)-[r]->(b) RETURN COUNT(r)\"):\n",
    "        print(record)\n",
    "        \n",
    "with driver.session() as session:\n",
    "    print(session.read_transaction(read_count))"
   ]
  },
  {
   "cell_type": "code",
   "execution_count": 3,
   "metadata": {},
   "outputs": [
    {
     "name": "stdout",
     "output_type": "stream",
     "text": [
      "CPU times: user 1.33 s, sys: 68.9 ms, total: 1.4 s\n",
      "Wall time: 2.32 s\n"
     ]
    }
   ],
   "source": [
    "%%time\n",
    "def add_count(tx):\n",
    "    tx.run(\"\"\"\n",
    "        MATCH (n:Node)\n",
    "        SET n.count = SIZE((n)-[]-())\n",
    "        RETURN 0\n",
    "    \"\"\")\n",
    "\n",
    "with driver.session() as session:\n",
    "    session.write_transaction(add_count)"
   ]
  },
  {
   "cell_type": "code",
   "execution_count": 14,
   "metadata": {},
   "outputs": [],
   "source": [
    "driver.close()"
   ]
  },
  {
   "cell_type": "code",
   "execution_count": null,
   "metadata": {},
   "outputs": [],
   "source": []
  }
 ],
 "metadata": {
  "kernelspec": {
   "display_name": "Python 3",
   "language": "python",
   "name": "python3"
  },
  "language_info": {
   "codemirror_mode": {
    "name": "ipython",
    "version": 3
   },
   "file_extension": ".py",
   "mimetype": "text/x-python",
   "name": "python",
   "nbconvert_exporter": "python",
   "pygments_lexer": "ipython3",
   "version": "3.7.4"
  }
 },
 "nbformat": 4,
 "nbformat_minor": 4
}
